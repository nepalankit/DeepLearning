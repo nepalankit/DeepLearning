{
  "nbformat": 4,
  "nbformat_minor": 0,
  "metadata": {
    "colab": {
      "provenance": [],
      "authorship_tag": "ABX9TyNOLPeltF7HGYGe2paq+l7x"
    },
    "kernelspec": {
      "name": "python3",
      "display_name": "Python 3"
    },
    "language_info": {
      "name": "python"
    }
  },
  "cells": [
    {
      "cell_type": "markdown",
      "source": [
        "**Recurrent Neural Network**\n",
        "\n",
        "The sun rises in the ____.\n",
        "\n",
        "If we were asked to predict the blank in the above sentence, we might probably predict as 'east'. How did we predict that the word 'east' would be the right word? Because we read the whole sentence, understood the context and predicted that the word 'east' would be an appropriate word here.\n",
        "\n",
        "If we use a feedforward neural network to predict the blank, it would not predict the right word. This is due to the fact that in feedforward network, each input is independent of each other and they make predictions only based on the current input and they don't remember previous inputs.\n",
        "\n",
        "Thus, input to the network will be just the word before the blank which is, 'the'. With this word alone as an input, our network cannot predict the correct word because it doesn't know the context of the sentence which means - it doesn't know the previous set of words to understand the context of the sentence and to predict an appropriate next word.\n",
        "\n",
        "Here is where we use Recurrent Neural networks. It predicts output not only based on the current input but also on the previous hidden state. But why does it have to predict the output based on the current input and the previous hidden state and why it can't just use the current input and the previous input?\n",
        "\n",
        "Because the previous input will store information just about the previous word while the previous hidden state captures the contextual information about all the words in the sentence that the network has seen so far. Basically, the previous hidden state acts like a memory and it captures the context of the sentence. With this context and the current input, we can predict the relevant word.\n",
        "\n",
        "For instance, let us take the same sentence, The sun rises in the ____. As shown in the following figure, we first pass the word 'the' as an input and then pass the next word 'sun' as input but along with this we also pass the previous hidden state\n",
        "\n",
        ". So every time, we pass the input word - we also pass a previous hidden state.\n",
        "\n",
        "In the final step, we pass the word 'the' and also the previous hidden state\n",
        "\n",
        "which captures the contextual information about the sequence of words that the network has seen\n",
        "\n",
        "so far. Thus,\n",
        "acts as memory and stores information about all the previous words that the network has seen. With and the current input word 'the', we can now predict the relevant next word.\n",
        "![image](https://raw.githubusercontent.com/sudharsan13296/Hands-On-Deep-Learning-Algorithms-with-Python/59efa4d874288f34b07807b848e4dbff34ff8aee/04.%20Generating%20Song%20Lyrics%20Using%20RNN/images/1.png)\n",
        "\n",
        "n a nutshell, RNN uses previous hidden state as memory which captures and stores the information (inputs) that the network has seen so far.\n",
        "\n",
        "RNN is widely applied for use cases that involves sequential data like time series, text, audio, speech, video, weather and many more. It has been greatly used in various Natural Language Processing (NLP) tasks such as language translation, sentiment analysis, text generation and so on.\n",
        "\n",
        "In the next section, we will learn about the difference between feedforward networks and RNN.\n"
      ],
      "metadata": {
        "id": "r7yU6h55ebm0"
      }
    }
  ]
}