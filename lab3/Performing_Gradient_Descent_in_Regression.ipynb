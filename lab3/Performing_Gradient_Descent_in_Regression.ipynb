{
  "nbformat": 4,
  "nbformat_minor": 0,
  "metadata": {
    "colab": {
      "provenance": [],
      "gpuType": "T4",
      "authorship_tag": "ABX9TyMoiv82ed7o8jypTz3XYeg7"
    },
    "kernelspec": {
      "name": "python3",
      "display_name": "Python 3"
    },
    "language_info": {
      "name": "python"
    },
    "accelerator": "GPU"
  },
  "cells": [
    {
      "cell_type": "markdown",
      "source": [
        "**Performing Gradient Descent in Regression.**"
      ],
      "metadata": {
        "id": "THt3zKJMlktC"
      }
    },
    {
      "cell_type": "code",
      "execution_count": 1,
      "metadata": {
        "id": "PFj-dewwbVLp"
      },
      "outputs": [],
      "source": [
        "import warnings\n",
        "warnings.filterwarnings('ignore')\n",
        "\n",
        "\n",
        "import random\n",
        "import math\n",
        "import numpy as np\n",
        "from matplotlib import pyplot as plt\n",
        "%matplotlib inline"
      ]
    },
    {
      "cell_type": "markdown",
      "source": [
        "Prepare the dataset\n",
        "We generate some random data points with 500 rows and 2 columns (x and y) and use for training:"
      ],
      "metadata": {
        "id": "oZRnejPYluGp"
      }
    },
    {
      "cell_type": "code",
      "source": [
        "data=np.random.randn(500,2)"
      ],
      "metadata": {
        "id": "ALK0lIQ0lvjT"
      },
      "execution_count": 2,
      "outputs": []
    },
    {
      "cell_type": "code",
      "source": [
        "data[0]\n"
      ],
      "metadata": {
        "colab": {
          "base_uri": "https://localhost:8080/"
        },
        "id": "9hqF9-kpl83q",
        "outputId": "d57e6af8-ee35-4f5a-c1af-7a2ed768764f"
      },
      "execution_count": 3,
      "outputs": [
        {
          "output_type": "execute_result",
          "data": {
            "text/plain": [
              "array([ 1.99597148, -0.5700347 ])"
            ]
          },
          "metadata": {},
          "execution_count": 3
        }
      ]
    },
    {
      "cell_type": "markdown",
      "source": [
        "First column indicates the x value, the second indicates y"
      ],
      "metadata": {
        "id": "eFREOY6FmASw"
      }
    },
    {
      "cell_type": "code",
      "source": [
        "data[0,1]\n"
      ],
      "metadata": {
        "colab": {
          "base_uri": "https://localhost:8080/"
        },
        "id": "Xw3hTsGdmDjP",
        "outputId": "b9eba507-2cf0-4483-a597-929c6b73f224"
      },
      "execution_count": 4,
      "outputs": [
        {
          "output_type": "execute_result",
          "data": {
            "text/plain": [
              "np.float64(-0.5700346953655001)"
            ]
          },
          "metadata": {},
          "execution_count": 4
        }
      ]
    },
    {
      "cell_type": "markdown",
      "source": [
        "Equation of a simple linear regression is expressed as:\n",
        "$\\hat{y} = mx + b$\n",
        "\n",
        "Thus, we have two parameters\n",
        " and\n",
        " We store both of these parameter\n",
        " and\n",
        " in an array called theta. First, we initialize theta with zeros as shown below:\n"
      ],
      "metadata": {
        "id": "m84gMVHqmOyC"
      }
    },
    {
      "cell_type": "code",
      "source": [
        "theta = np.zeros(2)\n"
      ],
      "metadata": {
        "id": "GcraefgvmRL7"
      },
      "execution_count": 5,
      "outputs": []
    },
    {
      "cell_type": "code",
      "source": [
        "theta\n"
      ],
      "metadata": {
        "colab": {
          "base_uri": "https://localhost:8080/"
        },
        "id": "nw_DQTI-mlZH",
        "outputId": "f5b46e8c-6de7-4bf5-966e-ef9ef3bb6bf0"
      },
      "execution_count": 6,
      "outputs": [
        {
          "output_type": "execute_result",
          "data": {
            "text/plain": [
              "array([0., 0.])"
            ]
          },
          "metadata": {},
          "execution_count": 6
        }
      ]
    },
    {
      "cell_type": "markdown",
      "source": [
        "theta[0] represents the value of m\n",
        " and theta[1] represents the value of b"
      ],
      "metadata": {
        "id": "KI_FMAH0m0zn"
      }
    },
    {
      "cell_type": "markdown",
      "source": [
        "**Defining the loss function**\n",
        "\n",
        "\n",
        "\n",
        "\n"
      ],
      "metadata": {
        "id": "4U2Pfb8JnEaY"
      }
    },
    {
      "cell_type": "markdown",
      "source": [
        "$$\n",
        "\\text{MSE} = \\frac{1}{N} \\sum_{i=1}^{N} (y_i - \\hat{y}_i)^2\n",
        "$$\n"
      ],
      "metadata": {
        "id": "gSITXOXin8Qv"
      }
    },
    {
      "cell_type": "markdown",
      "source": [
        "Loss Function\n",
        "Mean Squared Error (MSE) of Regression is given as:\n",
        "\n",
        "\n",
        "\n",
        "Where\n",
        " N is the number of training samples,\n",
        " y is the actual value and\n",
        "$ \\hat{y} $ is the predicted value.\n",
        "\n",
        "The above loss function can be implemented as:\n",
        "\n",
        "We feed the data and the model parameter theta to the loss function which returns the MSE. Remember, data[,0] has\n",
        " x value and data[,1] has\n",
        " y value. Similarly,  theta [0] has a value of\n",
        " m and theta[1] has a value of b\n",
        "."
      ],
      "metadata": {
        "id": "gqBTwsCTodPI"
      }
    },
    {
      "cell_type": "code",
      "source": [
        "def loss_function(data,theta):\n",
        "\n",
        "    #get m and b\n",
        "    m = theta[0]\n",
        "    b = theta[1]\n",
        "\n",
        "    loss = 0\n",
        "\n",
        "    #for each iteration\n",
        "    for i in range(0, len(data)):\n",
        "\n",
        "        #get x and y\n",
        "        x = data[i, 0]\n",
        "        y = data[i, 1]\n",
        "\n",
        "        #predict the value of y\n",
        "        y_hat = (m*x + b)\n",
        "\n",
        "        #compute loss as given in quation (2)\n",
        "        loss = loss + ((y - (y_hat)) ** 2)\n",
        "\n",
        "    #mean sqaured error\n",
        "    mse = loss / float(len(data))\n",
        "\n",
        "    return mse"
      ],
      "metadata": {
        "id": "klA4KNMcn-Vb"
      },
      "execution_count": 10,
      "outputs": []
    },
    {
      "cell_type": "code",
      "source": [
        "loss_function(data, theta)\n"
      ],
      "metadata": {
        "colab": {
          "base_uri": "https://localhost:8080/"
        },
        "id": "upbi312lqIGJ",
        "outputId": "9296885b-10a4-4c45-98de-f479bfe3f251"
      },
      "execution_count": 11,
      "outputs": [
        {
          "output_type": "execute_result",
          "data": {
            "text/plain": [
              "np.float64(1.0265845932658701)"
            ]
          },
          "metadata": {},
          "execution_count": 11
        }
      ]
    },
    {
      "cell_type": "markdown",
      "source": [
        "Now, we need to minimize this loss. In order to minimize the loss, we need to\n",
        "calculate the gradient of the loss function J , with respect to the model\n",
        "parameters m  and b and update the parameter according to the parameter\n",
        "update rule. First, we will calculate the gradients of the loss function."
      ],
      "metadata": {
        "id": "VHCPofHvqPy5"
      }
    },
    {
      "cell_type": "markdown",
      "source": [
        "\n",
        "**Gradients of Loss Function**\n",
        "Gradients of loss function \\( \\mathcal{J} \\) with respect to parameter \\( m \\) is given as:\n",
        "\n",
        "$$\n",
        "\\frac{dJ}{dm} = \\frac{2}{N} \\sum_{i=1}^{N} -x_i \\left( y_i - (mx_i + b) \\right)\n",
        "$$\n",
        "\n",
        "Gradients of loss function \\( \\mathcal{J} \\) with respect to parameter \\( b \\) is given as:\n",
        "\n",
        "$$\n",
        "\\frac{dJ}{db} = \\frac{2}{N} \\sum_{i=1}^{N} -\\left( y_i - (mx_i + b) \\right)\n",
        "$$\n",
        "\n",
        "We define a function called `compute_gradients` which takes the data and parameter theta as an input and returns the computed gradients:\n"
      ],
      "metadata": {
        "id": "SQuz0Ok6qZbT"
      }
    },
    {
      "cell_type": "code",
      "source": [
        "def compute_gradients(data, theta):\n",
        "\n",
        "    gradients = np.zeros(2)\n",
        "\n",
        "    #total number of data points\n",
        "    N = float(len(data))\n",
        "\n",
        "    m = theta[0]\n",
        "    b = theta[1]\n",
        "\n",
        "    #for each data point\n",
        "    for i in range(len(data)):\n",
        "        x = data[i, 0]\n",
        "        y = data[i, 1]\n",
        "\n",
        "        #gradient of loss function with respect to m as given in (3)\n",
        "        gradients[0] += - (2 / N) * x * (y - (( m* x) + b))\n",
        "\n",
        "        #gradient of loss funcction with respect to b as given in (4)\n",
        "        gradients[1] += - (2 / N) * (y - ((theta[0] * x) + b))\n",
        "\n",
        "    #add epsilon to avoid division by zero error\n",
        "    epsilon = 1e-6\n",
        "    gradients = np.divide(gradients, N + epsilon)\n",
        "\n",
        "    return gradients"
      ],
      "metadata": {
        "id": "MKi1WXfQrX10"
      },
      "execution_count": 12,
      "outputs": []
    },
    {
      "cell_type": "code",
      "source": [
        "compute_gradients(data,theta)\n"
      ],
      "metadata": {
        "colab": {
          "base_uri": "https://localhost:8080/"
        },
        "id": "KdtZzJA-rqXt",
        "outputId": "805a1102-bd94-41bf-e7d9-f94996eab730"
      },
      "execution_count": 13,
      "outputs": [
        {
          "output_type": "execute_result",
          "data": {
            "text/plain": [
              "array([0.0001555 , 0.00034839])"
            ]
          },
          "metadata": {},
          "execution_count": 13
        }
      ]
    },
    {
      "cell_type": "markdown",
      "source": [
        "After computing gradients we need to update our model paramater according to our update rule as given below:\n",
        "\n"
      ],
      "metadata": {
        "id": "1H_fsC1krwNZ"
      }
    },
    {
      "cell_type": "markdown",
      "source": [
        "$$m = m - \\alpha \\frac{dJ}{dm} \\text{ }$$\n",
        "\n",
        "$$b = b - \\alpha \\frac{dJ}{db} \\text{ }$$\n",
        "\n",
        "Since we stored $m$ in theta[0] and $b$ in theta[1], we can write our update equation as:\n",
        "\n",
        "$$\\theta = \\theta - \\alpha \\frac{dJ}{d\\theta} \\text{ }$$\n",
        "\n",
        "As we learned in the previous section, updating gradients for just one time will not lead us to the convergence i.e minimum of the cost function, so we need to compute gradients and the update the model parameter for several iterations:"
      ],
      "metadata": {
        "id": "IMPJz2uBrx9f"
      }
    },
    {
      "cell_type": "code",
      "source": [
        "num_iterations = 50000\n"
      ],
      "metadata": {
        "id": "9c0OPLQbrxHd"
      },
      "execution_count": 14,
      "outputs": []
    },
    {
      "cell_type": "markdown",
      "source": [
        "learning rate"
      ],
      "metadata": {
        "id": "OXrlFk38siWQ"
      }
    },
    {
      "cell_type": "code",
      "source": [
        "lr = 1e-2\n"
      ],
      "metadata": {
        "id": "AGI26mAAsd_1"
      },
      "execution_count": 15,
      "outputs": []
    },
    {
      "cell_type": "markdown",
      "source": [
        "Define a list called loss for storing the loss on every iterations:\n",
        "On each iteration, calculate gradients and update the gradients according to our paramater update rule:\n",
        "\n",
        "\n",
        "\n"
      ],
      "metadata": {
        "id": "B06OCwqXslQy"
      }
    },
    {
      "cell_type": "code",
      "source": [
        "loss = []\n"
      ],
      "metadata": {
        "id": "Y_8sZaY1svcP"
      },
      "execution_count": 17,
      "outputs": []
    },
    {
      "cell_type": "code",
      "source": [
        "theta = np.zeros(2)\n",
        "\n",
        "for t in range(num_iterations):\n",
        "\n",
        "    #compute gradients\n",
        "    gradients = compute_gradients(data, theta)\n",
        "\n",
        "    #update parameter\n",
        "    theta = theta - (lr*gradients)\n",
        "\n",
        "    #store the loss\n",
        "    loss.append(loss_function(data,theta))"
      ],
      "metadata": {
        "id": "FQ-9jwQbs1sw"
      },
      "execution_count": 18,
      "outputs": []
    },
    {
      "cell_type": "markdown",
      "source": [
        "The below plot shows how the loss(cost) decreases over the training iterations:\n",
        "\n"
      ],
      "metadata": {
        "id": "dEgCgKoes-ZP"
      }
    },
    {
      "cell_type": "code",
      "source": [
        "plt.plot(loss)\n",
        "plt.grid()\n",
        "plt.xlabel('Training Iterations')\n",
        "plt.ylabel('Cost')\n",
        "plt.title('Gradient Descent')"
      ],
      "metadata": {
        "colab": {
          "base_uri": "https://localhost:8080/",
          "height": 490
        },
        "id": "8op9rbqHs-Al",
        "outputId": "d971f4b6-fbbe-40b4-c420-08de136cbf1e"
      },
      "execution_count": 19,
      "outputs": [
        {
          "output_type": "execute_result",
          "data": {
            "text/plain": [
              "Text(0.5, 1.0, 'Gradient Descent')"
            ]
          },
          "metadata": {},
          "execution_count": 19
        },
        {
          "output_type": "display_data",
          "data": {
            "text/plain": [
              "<Figure size 640x480 with 1 Axes>"
            ],
            "image/png": "[encoded data removed]"
          },
          "metadata": {}
        }
      ]
    },
    {
      "cell_type": "markdown",
      "source": [
        "Thus, we learned that gradient descent can be used for finding the optimal parameters of the model with which we can minimize the loss."
      ],
      "metadata": {
        "id": "x9yMXpbWtTJQ"
      }
    }
  ]
}