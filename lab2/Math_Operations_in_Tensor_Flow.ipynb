{
  "nbformat": 4,
  "nbformat_minor": 0,
  "metadata": {
    "colab": {
      "provenance": [],
      "authorship_tag": "ABX9TyP7wMIjN9TeqKabC93Alu4+"
    },
    "kernelspec": {
      "name": "python3",
      "display_name": "Python 3"
    },
    "language_info": {
      "name": "python"
    }
  },
  "cells": [
    {
      "cell_type": "code",
      "execution_count": 11,
      "metadata": {
        "id": "R4nKzWfAol28"
      },
      "outputs": [],
      "source": [
        "import tensorflow as tf\n",
        "import numpy as np\n"
      ]
    },
    {
      "cell_type": "code",
      "source": [
        "x = tf.constant([1., 2., 3.])\n",
        "y = tf.constant([3., 2., 1.])"
      ],
      "metadata": {
        "id": "le5n5cEhpOs7"
      },
      "execution_count": 12,
      "outputs": []
    },
    {
      "cell_type": "markdown",
      "source": [
        "Use tf.add to add two numbers"
      ],
      "metadata": {
        "id": "gKSXW6LOpZBK"
      }
    },
    {
      "cell_type": "code",
      "source": [
        "sum=tf.add(x,y)\n",
        "print(sum)"
      ],
      "metadata": {
        "colab": {
          "base_uri": "https://localhost:8080/"
        },
        "id": "3BWgmMbUpWkW",
        "outputId": "731d9328-35cd-453e-f86f-7f94d86cf8ae"
      },
      "execution_count": 13,
      "outputs": [
        {
          "output_type": "stream",
          "name": "stdout",
          "text": [
            "tf.Tensor([4. 4. 4.], shape=(3,), dtype=float32)\n"
          ]
        }
      ]
    },
    {
      "cell_type": "markdown",
      "source": [
        "Use tf.subtract to sub two numbers"
      ],
      "metadata": {
        "id": "G8eT9hr-pjyI"
      }
    },
    {
      "cell_type": "code",
      "source": [
        "sub=tf.subtract(x,y)\n",
        "print(sub)"
      ],
      "metadata": {
        "colab": {
          "base_uri": "https://localhost:8080/"
        },
        "id": "GOHI2BLxpoqn",
        "outputId": "4bd27730-819d-464b-dc44-3f3a88bc6010"
      },
      "execution_count": 14,
      "outputs": [
        {
          "output_type": "stream",
          "name": "stdout",
          "text": [
            "tf.Tensor([-2.  0.  2.], shape=(3,), dtype=float32)\n"
          ]
        }
      ]
    },
    {
      "cell_type": "markdown",
      "source": [
        "Multiply use tf.multiply"
      ],
      "metadata": {
        "id": "3dA8DAJFpyJK"
      }
    },
    {
      "cell_type": "code",
      "source": [
        "mul=tf.multiply(x,y)\n",
        "print(mul)"
      ],
      "metadata": {
        "colab": {
          "base_uri": "https://localhost:8080/"
        },
        "id": "4YSZZ-bgp0va",
        "outputId": "5177c7f6-f655-4e47-d5e7-4cdd91257215"
      },
      "execution_count": 15,
      "outputs": [
        {
          "output_type": "stream",
          "name": "stdout",
          "text": [
            "tf.Tensor([3. 4. 3.], shape=(3,), dtype=float32)\n"
          ]
        }
      ]
    },
    {
      "cell_type": "markdown",
      "source": [
        "Divide two numbers using tf.divide"
      ],
      "metadata": {
        "id": "AtRI4WKYp8Q0"
      }
    },
    {
      "cell_type": "code",
      "source": [
        "div=tf.divide(x,y)\n",
        "print(div)"
      ],
      "metadata": {
        "colab": {
          "base_uri": "https://localhost:8080/"
        },
        "id": "I9xld2asp9Uy",
        "outputId": "e012e9ee-40e1-414a-f4b1-eae0bc02547f"
      },
      "execution_count": 16,
      "outputs": [
        {
          "output_type": "stream",
          "name": "stdout",
          "text": [
            "tf.Tensor([0.33333334 1.         3.        ], shape=(3,), dtype=float32)\n"
          ]
        }
      ]
    },
    {
      "cell_type": "markdown",
      "source": [
        "The dot product can be computed as follows:"
      ],
      "metadata": {
        "id": "iduyCbkVwtse"
      }
    },
    {
      "cell_type": "code",
      "source": [
        "dot_product = tf.reduce_sum(tf.multiply(x, y))\n",
        "dot_product.numpy()"
      ],
      "metadata": {
        "colab": {
          "base_uri": "https://localhost:8080/"
        },
        "id": "Zrnt6Dmtw32F",
        "outputId": "6fe23857-f949-4727-e025-141c85301b0f"
      },
      "execution_count": 17,
      "outputs": [
        {
          "output_type": "execute_result",
          "data": {
            "text/plain": [
              "np.float32(10.0)"
            ]
          },
          "metadata": {},
          "execution_count": 17
        }
      ]
    },
    {
      "cell_type": "markdown",
      "source": [
        "Next, let's find the index of the minimum and maximum elements:"
      ],
      "metadata": {
        "id": "epElm9dexIba"
      }
    },
    {
      "cell_type": "code",
      "source": [
        "x = tf.constant([10, 11, 3, 9])\n",
        "tf.argmin(x).numpy()"
      ],
      "metadata": {
        "colab": {
          "base_uri": "https://localhost:8080/"
        },
        "id": "HP6o5WOTxKv1",
        "outputId": "ef5dfff9-2b54-45da-ae87-04c0c8ea2d5c"
      },
      "execution_count": 28,
      "outputs": [
        {
          "output_type": "execute_result",
          "data": {
            "text/plain": [
              "np.int64(2)"
            ]
          },
          "metadata": {},
          "execution_count": 28
        }
      ]
    },
    {
      "cell_type": "markdown",
      "source": [
        "the index of the maximum value is computed using tf.argmax()"
      ],
      "metadata": {
        "id": "g0yD2Zozxciw"
      }
    },
    {
      "cell_type": "code",
      "source": [
        "tf.argmax(x).numpy()"
      ],
      "metadata": {
        "colab": {
          "base_uri": "https://localhost:8080/"
        },
        "id": "PDuA1Tt_xdnQ",
        "outputId": "c30e22f6-ba8d-42c3-e135-ddb060389de2"
      },
      "execution_count": 30,
      "outputs": [
        {
          "output_type": "execute_result",
          "data": {
            "text/plain": [
              "np.int64(0)"
            ]
          },
          "metadata": {},
          "execution_count": 30
        }
      ]
    },
    {
      "cell_type": "markdown",
      "source": [
        "Concatenate the two matrices:"
      ],
      "metadata": {
        "id": "oPxEHUdJyq8i"
      }
    },
    {
      "cell_type": "code",
      "source": [
        "x = [[3,6,9], [7,7,7]]\n",
        "y = [[4,5,6], [5,5,5]]"
      ],
      "metadata": {
        "id": "vLHpj9T7yt2B"
      },
      "execution_count": 37,
      "outputs": []
    },
    {
      "cell_type": "code",
      "source": [
        "tf.concat([x, y], 0).numpy()"
      ],
      "metadata": {
        "colab": {
          "base_uri": "https://localhost:8080/"
        },
        "id": "grVEoXtm0z1T",
        "outputId": "9571040b-067f-47fe-a94e-60cb20e1485a"
      },
      "execution_count": 38,
      "outputs": [
        {
          "output_type": "execute_result",
          "data": {
            "text/plain": [
              "array([[3, 6, 9],\n",
              "       [7, 7, 7],\n",
              "       [4, 5, 6],\n",
              "       [5, 5, 5]], dtype=int32)"
            ]
          },
          "metadata": {},
          "execution_count": 38
        }
      ]
    },
    {
      "cell_type": "markdown",
      "source": [
        "Use the following code to concatenate the matrices column-wise:\n"
      ],
      "metadata": {
        "id": "bUI2SUUv056l"
      }
    },
    {
      "cell_type": "code",
      "source": [
        "tf.concat([x, y], 1).numpy()"
      ],
      "metadata": {
        "colab": {
          "base_uri": "https://localhost:8080/"
        },
        "id": "bVUedyCJ04Sh",
        "outputId": "16bc056d-41c3-4cea-e58e-83962578aa2e"
      },
      "execution_count": 39,
      "outputs": [
        {
          "output_type": "execute_result",
          "data": {
            "text/plain": [
              "array([[3, 6, 9, 4, 5, 6],\n",
              "       [7, 7, 7, 5, 5, 5]], dtype=int32)"
            ]
          },
          "metadata": {},
          "execution_count": 39
        }
      ]
    },
    {
      "cell_type": "markdown",
      "source": [
        "Stack the x matrix using the stack function:"
      ],
      "metadata": {
        "id": "3TcNOVF81Lz3"
      }
    },
    {
      "cell_type": "code",
      "source": [
        "tf.stack(x, axis=1).numpy()"
      ],
      "metadata": {
        "colab": {
          "base_uri": "https://localhost:8080/"
        },
        "id": "f5rNWawG1ORr",
        "outputId": "5ee9bd8d-525a-4bff-9591-7add50086005"
      },
      "execution_count": 40,
      "outputs": [
        {
          "output_type": "execute_result",
          "data": {
            "text/plain": [
              "array([[3, 7],\n",
              "       [6, 7],\n",
              "       [9, 7]], dtype=int32)"
            ]
          },
          "metadata": {},
          "execution_count": 40
        }
      ]
    },
    {
      "cell_type": "markdown",
      "source": [
        "Now, let' see how to perform the reduce_mean operation:"
      ],
      "metadata": {
        "id": "WO5FN7fy1qiQ"
      }
    },
    {
      "cell_type": "code",
      "source": [
        "x = tf.Variable([[1.0, 5.0], [2.0, 3.0]])\n",
        "x.numpy()"
      ],
      "metadata": {
        "colab": {
          "base_uri": "https://localhost:8080/"
        },
        "id": "L6R1MTGr1pTk",
        "outputId": "cbb51d3f-b791-4a61-d660-ca3da4bf44c4"
      },
      "execution_count": 42,
      "outputs": [
        {
          "output_type": "execute_result",
          "data": {
            "text/plain": [
              "array([[1., 5.],\n",
              "       [2., 3.]], dtype=float32)"
            ]
          },
          "metadata": {},
          "execution_count": 42
        }
      ]
    },
    {
      "cell_type": "markdown",
      "source": [
        "Compute the mean value of x"
      ],
      "metadata": {
        "id": "BZZWVzab10vG"
      }
    },
    {
      "cell_type": "code",
      "source": [
        "tf.reduce_mean(input_tensor=x).numpy()"
      ],
      "metadata": {
        "colab": {
          "base_uri": "https://localhost:8080/"
        },
        "id": "QcUVPLFu14BR",
        "outputId": "b9882526-7658-43fd-b528-cd29a87fb9f2"
      },
      "execution_count": 43,
      "outputs": [
        {
          "output_type": "execute_result",
          "data": {
            "text/plain": [
              "np.float32(2.75)"
            ]
          },
          "metadata": {},
          "execution_count": 43
        }
      ]
    },
    {
      "cell_type": "markdown",
      "source": [
        "Compute the mean across the column; that is,"
      ],
      "metadata": {
        "id": "huPfwqqd17MH"
      }
    },
    {
      "cell_type": "code",
      "source": [
        "tf.reduce_mean(input_tensor=x, axis=1, keepdims=True).numpy()"
      ],
      "metadata": {
        "colab": {
          "base_uri": "https://localhost:8080/"
        },
        "id": "LtlQ5r0x17vz",
        "outputId": "dcf96963-be11-4573-f5d2-059798170efa"
      },
      "execution_count": 44,
      "outputs": [
        {
          "output_type": "execute_result",
          "data": {
            "text/plain": [
              "array([[3. ],\n",
              "       [2.5]], dtype=float32)"
            ]
          },
          "metadata": {},
          "execution_count": 44
        }
      ]
    },
    {
      "cell_type": "markdown",
      "source": [
        "Compute the mean across the row; that is,"
      ],
      "metadata": {
        "id": "-PyRXxiv2eyi"
      }
    },
    {
      "cell_type": "code",
      "source": [
        "tf.reduce_mean(input_tensor=x, axis=0).numpy()"
      ],
      "metadata": {
        "colab": {
          "base_uri": "https://localhost:8080/"
        },
        "id": "MXvFLT5z2fyB",
        "outputId": "ee07f127-9524-4ce6-a8a8-4bb2b7a7b039"
      },
      "execution_count": 46,
      "outputs": [
        {
          "output_type": "execute_result",
          "data": {
            "text/plain": [
              "array([1.5, 4. ], dtype=float32)"
            ]
          },
          "metadata": {},
          "execution_count": 46
        }
      ]
    },
    {
      "cell_type": "markdown",
      "source": [
        "Compute the softmax probabilities:"
      ],
      "metadata": {
        "id": "vEvq1uOj2vY-"
      }
    },
    {
      "cell_type": "code",
      "source": [
        "x = tf.constant([7., 2., 5.])\n",
        "tf.nn.softmax(x).numpy()"
      ],
      "metadata": {
        "colab": {
          "base_uri": "https://localhost:8080/"
        },
        "id": "F981vA2m2wFm",
        "outputId": "ded60410-c089-42d6-d96e-e21e005d44f3"
      },
      "execution_count": 47,
      "outputs": [
        {
          "output_type": "execute_result",
          "data": {
            "text/plain": [
              "array([0.8756006 , 0.00589975, 0.11849965], dtype=float32)"
            ]
          },
          "metadata": {},
          "execution_count": 47
        }
      ]
    },
    {
      "cell_type": "markdown",
      "source": [
        "Now, we'll look at how to compute the gradients."
      ],
      "metadata": {
        "id": "vPw68hip20b5"
      }
    },
    {
      "cell_type": "code",
      "source": [
        "def square(x):\n",
        "  return tf.multiply(x, x)"
      ],
      "metadata": {
        "id": "l08au3lu23uv"
      },
      "execution_count": 49,
      "outputs": []
    },
    {
      "cell_type": "markdown",
      "source": [
        "The gradients can be computed for the preceding square function using\n",
        "tf.GradientTape, as follows"
      ],
      "metadata": {
        "id": "tmjXaQQj29NV"
      }
    },
    {
      "cell_type": "code",
      "source": [
        "with tf.GradientTape(persistent=True) as tape:\n",
        "  print(square(6.).numpy())"
      ],
      "metadata": {
        "colab": {
          "base_uri": "https://localhost:8080/"
        },
        "id": "IsbPxCb_2_n9",
        "outputId": "594ef3cb-290c-411d-af6d-d9dcdaf5736d"
      },
      "execution_count": 52,
      "outputs": [
        {
          "output_type": "stream",
          "name": "stdout",
          "text": [
            "36.0\n"
          ]
        }
      ]
    }
  ]
}