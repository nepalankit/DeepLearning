{
  "cells": [
    {
      "cell_type": "markdown",
      "metadata": {
        "id": "7_6KYnN6Icq8"
      },
      "source": [
        "Forward Propagation in RNNs"
      ]
    },
    {
      "cell_type": "markdown",
      "metadata": {
        "id": "JUmIYBAvIcq9"
      },
      "source": [
        "- $U$ represents the input to the hidden layer weight matrix\n",
        "- $W$ represents the hidden to hidden layer weight matrix\n",
        "- $V$ represents the hidden to output layer weight matrix"
      ]
    },
    {
      "cell_type": "markdown",
      "metadata": {
        "id": "O54Lv5gCIcq9"
      },
      "source": [
        "The hidden state $h$ at a time step $t$ can be computed as:<br> $h_t = tanh(Ux_1+Wh_{t-1})$"
      ]
    },
    {
      "cell_type": "markdown",
      "metadata": {
        "id": "TcEd8jDcIcq9"
      },
      "source": [
        "The output at a time step $t$ can be computed as:<br> $\\hat{y}_t = softmax(Vh_t)$"
      ]
    },
    {
      "cell_type": "code",
      "execution_count": 1,
      "metadata": {
        "id": "22XAh2yBIcq-"
      },
      "outputs": [],
      "source": [
        "import numpy as np"
      ]
    },
    {
      "cell_type": "markdown",
      "metadata": {
        "id": "F3lKsz86Icq-"
      },
      "source": [
        "Initialize all the weights, $U$, $W$, and $V$, by randomly drawing from the\n",
        "uniform distribution:"
      ]
    },
    {
      "cell_type": "code",
      "execution_count": 2,
      "metadata": {
        "id": "eKqJmw3bIcq-"
      },
      "outputs": [],
      "source": [
        "input_dim = 10\n",
        "hidden_dim = 10\n",
        "output_dim = 10"
      ]
    },
    {
      "cell_type": "code",
      "execution_count": 3,
      "metadata": {
        "id": "9oW4NDxsIcq_"
      },
      "outputs": [],
      "source": [
        "U = np.random.uniform(-np.sqrt(1.0 / input_dim), np.sqrt(1.0 / input_dim), (hidden_dim, input_dim))\n",
        "W = np.random.uniform(-np.sqrt(1.0 / hidden_dim), np.sqrt(1.0 / hidden_dim), (hidden_dim, hidden_dim))\n",
        "V = np.random.uniform(-np.sqrt(1.0 / hidden_dim), np.sqrt(1.0 / hidden_dim), (input_dim, hidden_dim))"
      ]
    },
    {
      "cell_type": "markdown",
      "metadata": {
        "id": "xhi-i7oRIcq_"
      },
      "source": [
        "Define the number of time steps, which will be the length of our input\n",
        "sequence, $x$:"
      ]
    },
    {
      "cell_type": "code",
      "execution_count": 4,
      "metadata": {
        "id": "4DLJkK9_Icq_"
      },
      "outputs": [],
      "source": [
        "x = [10, 12, 14, 16, 18]"
      ]
    },
    {
      "cell_type": "code",
      "execution_count": 5,
      "metadata": {
        "id": "EB_CYnxtIcq_"
      },
      "outputs": [],
      "source": [
        "num_time_steps = len(x)"
      ]
    },
    {
      "cell_type": "code",
      "execution_count": 6,
      "metadata": {
        "id": "UMGjU6OsIcq_"
      },
      "outputs": [],
      "source": [
        "hidden_state = np.zeros((num_time_steps + 1, hidden_dim))"
      ]
    },
    {
      "cell_type": "code",
      "execution_count": 7,
      "metadata": {
        "id": "I2YwfQBKIcrA"
      },
      "outputs": [],
      "source": [
        "hidden_state[-1] = np.zeros(hidden_dim)"
      ]
    },
    {
      "cell_type": "code",
      "execution_count": 8,
      "metadata": {
        "id": "XfrNuiqLIcrA"
      },
      "outputs": [],
      "source": [
        "YHat = np.zeros((num_time_steps, output_dim))"
      ]
    },
    {
      "cell_type": "code",
      "execution_count": 9,
      "metadata": {
        "id": "mNwLs6bwIcrA"
      },
      "outputs": [],
      "source": [
        "def softmax(x):\n",
        "    return np.exp(x) / np.exp(x).sum(axis=0)"
      ]
    },
    {
      "cell_type": "code",
      "execution_count": 10,
      "metadata": {
        "id": "gkKrH1jYIcrA",
        "outputId": "dfdbf2d7-deff-4684-ce9b-1734e4876fc5",
        "colab": {
          "base_uri": "https://localhost:8080/"
        }
      },
      "outputs": [
        {
          "output_type": "execute_result",
          "data": {
            "text/plain": [
              "array([[0.1, 0.1, 0.1, 0.1, 0.1, 0.1, 0.1, 0.1, 0.1, 0.1],\n",
              "       [0.1, 0.1, 0.1, 0.1, 0.1, 0.1, 0.1, 0.1, 0.1, 0.1],\n",
              "       [0.1, 0.1, 0.1, 0.1, 0.1, 0.1, 0.1, 0.1, 0.1, 0.1],\n",
              "       [0.1, 0.1, 0.1, 0.1, 0.1, 0.1, 0.1, 0.1, 0.1, 0.1],\n",
              "       [0.1, 0.1, 0.1, 0.1, 0.1, 0.1, 0.1, 0.1, 0.1, 0.1]])"
            ]
          },
          "metadata": {},
          "execution_count": 10
        }
      ],
      "source": [
        "for t in np.arange(num_time_steps):\n",
        "    # h_t = tanh(UX + Wh_{t-1})\n",
        "    # hidden_state[t] = np.tanh(U[:, x[t]] + W.dot(hidden_state[t - 1]))\n",
        "    # yhat_t = softmax(vh)\n",
        "    YHat[t] = softmax(V.dot(hidden_state[t]))\n",
        "YHat"
      ]
    },
    {
      "cell_type": "markdown",
      "metadata": {
        "id": "uNtuw6_eIcrA"
      },
      "source": [
        "Backpropagation through time"
      ]
    },
    {
      "cell_type": "markdown",
      "metadata": {
        "id": "q_yhoyNVIcrB"
      },
      "source": [
        "The Loss $L$ at a time step $t$ can be given as:<br> $L_t = -y_t log(\\hat{y}_t)$"
      ]
    },
    {
      "cell_type": "markdown",
      "metadata": {
        "id": "LhKg7VmeIcrB"
      },
      "source": [
        "Here, $y_t$ is the actual output, and $\\hat{y}_t$ is the predicted output at a time step $t$"
      ]
    },
    {
      "cell_type": "markdown",
      "metadata": {
        "id": "kCgx8EpHIcrB"
      },
      "source": [
        "For $T-1$ layers, the final loss is given as:<br> $L = \\sum\\limits_{j=0}^{T-1}L_j$"
      ]
    },
    {
      "cell_type": "markdown",
      "metadata": {
        "id": "-mKQQgMNIcrB"
      },
      "source": [
        "The gradient pf the loss function wrt $V$ is:<br> $\\frac{\\partial L}{\\partial V} = \\sum\\limits_{j=0}^{T-1}(\\hat{y}_j - y_j) \\bigotimes h_j$"
      ]
    },
    {
      "cell_type": "markdown",
      "metadata": {
        "id": "VAzUQTY-IcrB"
      },
      "source": [
        "The gradient pf the loss function wrt $W$ is:<br> $\\frac{\\partial L}{\\partial W} = \\sum\\limits_{j=0}^{T-1} \\sum\\limits_{k=0}^{j}(\\hat{y}_j - y_j) \\prod\\limits_{m=k+1}^{j} W^T diag(1 - tanh^2(Wh_{m-1} + Ux_m)) \\bigotimes h_{k-1} $"
      ]
    },
    {
      "cell_type": "markdown",
      "metadata": {
        "id": "ph1Og8xtIcrB"
      },
      "source": [
        "Gradient Clipping"
      ]
    },
    {
      "cell_type": "markdown",
      "metadata": {
        "id": "qS9EoP65IcrB"
      },
      "source": [
        "Gradient clipping allows us to bypass the exploding gradient problem. First we normalize the graidents using the L2 norm, that is, $||\\hat{g}||$. If the normalized gradient exceeds the defined threshold, we update the gradient by scaling it by a certain factor."
      ]
    },
    {
      "cell_type": "markdown",
      "metadata": {
        "id": "xIszqpqkIcrB"
      },
      "source": [
        "If the gradient exceeds the defined threshold, the we update it as:<br>$\\hat{g} = \\frac{threshold}{||\\hat{g}||}.\\hat{g}$"
      ]
    },
    {
      "cell_type": "markdown",
      "metadata": {
        "id": "1aS3c2OxIcrB"
      },
      "source": [
        "Generating song lyrics using RNNs"
      ]
    },
    {
      "cell_type": "code",
      "execution_count": 11,
      "metadata": {
        "id": "1q2PORCrIcrB"
      },
      "outputs": [],
      "source": [
        "import warnings\n",
        "warnings.filterwarnings('ignore')\n",
        "import random\n",
        "import numpy as np\n",
        "import tensorflow as tf\n",
        "import warnings\n",
        "warnings.filterwarnings('ignore')\n",
        "import pandas as pd"
      ]
    },
    {
      "cell_type": "markdown",
      "metadata": {
        "id": "-bIV5C2uIcrB"
      },
      "source": [
        "Read the downloaded input dataset:"
      ]
    },
    {
      "cell_type": "code",
      "source": [
        "from google.colab import drive\n",
        "drive.mount('/content/drive')"
      ],
      "metadata": {
        "colab": {
          "base_uri": "https://localhost:8080/"
        },
        "id": "_mKUHFbCYYdn",
        "outputId": "c25abbdf-4695-49cb-ef27-b1b78caf191d"
      },
      "execution_count": 12,
      "outputs": [
        {
          "output_type": "stream",
          "name": "stdout",
          "text": [
            "Mounted at /content/drive\n"
          ]
        }
      ]
    },
    {
      "cell_type": "code",
      "execution_count": 13,
      "metadata": {
        "id": "RJI70w52IcrC"
      },
      "outputs": [],
      "source": [
        "df = pd.read_csv('/content/drive/MyDrive/songdata.csv')"
      ]
    },
    {
      "cell_type": "markdown",
      "metadata": {
        "id": "zk68P5kYIcrC"
      },
      "source": [
        "Dataset exploration"
      ]
    },
    {
      "cell_type": "code",
      "execution_count": 14,
      "metadata": {
        "id": "XacxHCIHIcrC",
        "outputId": "0429378d-fc86-45ef-856a-fcd3834ee7c7",
        "colab": {
          "base_uri": "https://localhost:8080/",
          "height": 206
        }
      },
      "outputs": [
        {
          "output_type": "execute_result",
          "data": {
            "text/plain": [
              "  artist                   song                                        link  \\\n",
              "0   ABBA  Ahe's My Kind Of Girl  /a/abba/ahes+my+kind+of+girl_20598417.html   \n",
              "1   ABBA       Andante, Andante       /a/abba/andante+andante_20002708.html   \n",
              "2   ABBA         As Good As New        /a/abba/as+good+as+new_20003033.html   \n",
              "3   ABBA                   Bang                  /a/abba/bang_20598415.html   \n",
              "4   ABBA       Bang-A-Boomerang      /a/abba/bang+a+boomerang_20002668.html   \n",
              "\n",
              "                                                text  \n",
              "0  Look at her face, it's a wonderful face  \\nAnd...  \n",
              "1  Take it easy with me, please  \\nTouch me gentl...  \n",
              "2  I'll never know why I had to go  \\nWhy I had t...  \n",
              "3  Making somebody happy is a question of give an...  \n",
              "4  Making somebody happy is a question of give an...  "
            ],
            "text/html": [
              "\n",
              "  <div id=\"df-b248d610-e087-4527-9b1a-56dceb55986a\" class=\"colab-df-container\">\n",
              "    <div>\n",
              "<style scoped>\n",
              "    .dataframe tbody tr th:only-of-type {\n",
              "        vertical-align: middle;\n",
              "    }\n",
              "\n",
              "    .dataframe tbody tr th {\n",
              "        vertical-align: top;\n",
              "    }\n",
              "\n",
              "    .dataframe thead th {\n",
              "        text-align: right;\n",
              "    }\n",
              "</style>\n",
              "<table border=\"1\" class=\"dataframe\">\n",
              "  <thead>\n",
              "    <tr style=\"text-align: right;\">\n",
              "      <th></th>\n",
              "      <th>artist</th>\n",
              "      <th>song</th>\n",
              "      <th>link</th>\n",
              "      <th>text</th>\n",
              "    </tr>\n",
              "  </thead>\n",
              "  <tbody>\n",
              "    <tr>\n",
              "      <th>0</th>\n",
              "      <td>ABBA</td>\n",
              "      <td>Ahe's My Kind Of Girl</td>\n",
              "      <td>/a/abba/ahes+my+kind+of+girl_20598417.html</td>\n",
              "      <td>Look at her face, it's a wonderful face  \\nAnd...</td>\n",
              "    </tr>\n",
              "    <tr>\n",
              "      <th>1</th>\n",
              "      <td>ABBA</td>\n",
              "      <td>Andante, Andante</td>\n",
              "      <td>/a/abba/andante+andante_20002708.html</td>\n",
              "      <td>Take it easy with me, please  \\nTouch me gentl...</td>\n",
              "    </tr>\n",
              "    <tr>\n",
              "      <th>2</th>\n",
              "      <td>ABBA</td>\n",
              "      <td>As Good As New</td>\n",
              "      <td>/a/abba/as+good+as+new_20003033.html</td>\n",
              "      <td>I'll never know why I had to go  \\nWhy I had t...</td>\n",
              "    </tr>\n",
              "    <tr>\n",
              "      <th>3</th>\n",
              "      <td>ABBA</td>\n",
              "      <td>Bang</td>\n",
              "      <td>/a/abba/bang_20598415.html</td>\n",
              "      <td>Making somebody happy is a question of give an...</td>\n",
              "    </tr>\n",
              "    <tr>\n",
              "      <th>4</th>\n",
              "      <td>ABBA</td>\n",
              "      <td>Bang-A-Boomerang</td>\n",
              "      <td>/a/abba/bang+a+boomerang_20002668.html</td>\n",
              "      <td>Making somebody happy is a question of give an...</td>\n",
              "    </tr>\n",
              "  </tbody>\n",
              "</table>\n",
              "</div>\n",
              "    <div class=\"colab-df-buttons\">\n",
              "\n",
              "  <div class=\"colab-df-container\">\n",
              "    <button class=\"colab-df-convert\" onclick=\"convertToInteractive('df-b248d610-e087-4527-9b1a-56dceb55986a')\"\n",
              "            title=\"Convert this dataframe to an interactive table.\"\n",
              "            style=\"display:none;\">\n",
              "\n",
              "  <svg xmlns=\"http://www.w3.org/2000/svg\" height=\"24px\" viewBox=\"0 -960 960 960\">\n",
              "    <path d=\"M120-120v-720h720v720H120Zm60-500h600v-160H180v160Zm220 220h160v-160H400v160Zm0 220h160v-160H400v160ZM180-400h160v-160H180v160Zm440 0h160v-160H620v160ZM180-180h160v-160H180v160Zm440 0h160v-160H620v160Z\"/>\n",
              "  </svg>\n",
              "    </button>\n",
              "\n",
              "  <style>\n",
              "    .colab-df-container {\n",
              "      display:flex;\n",
              "      gap: 12px;\n",
              "    }\n",
              "\n",
              "    .colab-df-convert {\n",
              "      background-color: #E8F0FE;\n",
              "      border: none;\n",
              "      border-radius: 50%;\n",
              "      cursor: pointer;\n",
              "      display: none;\n",
              "      fill: #1967D2;\n",
              "      height: 32px;\n",
              "      padding: 0 0 0 0;\n",
              "      width: 32px;\n",
              "    }\n",
              "\n",
              "    .colab-df-convert:hover {\n",
              "      background-color: #E2EBFA;\n",
              "      box-shadow: 0px 1px 2px rgba(60, 64, 67, 0.3), 0px 1px 3px 1px rgba(60, 64, 67, 0.15);\n",
              "      fill: #174EA6;\n",
              "    }\n",
              "\n",
              "    .colab-df-buttons div {\n",
              "      margin-bottom: 4px;\n",
              "    }\n",
              "\n",
              "    [theme=dark] .colab-df-convert {\n",
              "      background-color: #3B4455;\n",
              "      fill: #D2E3FC;\n",
              "    }\n",
              "\n",
              "    [theme=dark] .colab-df-convert:hover {\n",
              "      background-color: #434B5C;\n",
              "      box-shadow: 0px 1px 3px 1px rgba(0, 0, 0, 0.15);\n",
              "      filter: drop-shadow(0px 1px 2px rgba(0, 0, 0, 0.3));\n",
              "      fill: #FFFFFF;\n",
              "    }\n",
              "  </style>\n",
              "\n",
              "    <script>\n",
              "      const buttonEl =\n",
              "        document.querySelector('#df-b248d610-e087-4527-9b1a-56dceb55986a button.colab-df-convert');\n",
              "      buttonEl.style.display =\n",
              "        google.colab.kernel.accessAllowed ? 'block' : 'none';\n",
              "\n",
              "      async function convertToInteractive(key) {\n",
              "        const element = document.querySelector('#df-b248d610-e087-4527-9b1a-56dceb55986a');\n",
              "        const dataTable =\n",
              "          await google.colab.kernel.invokeFunction('convertToInteractive',\n",
              "                                                    [key], {});\n",
              "        if (!dataTable) return;\n",
              "\n",
              "        const docLinkHtml = 'Like what you see? Visit the ' +\n",
              "          '<a target=\"_blank\" href=https://colab.research.google.com/notebooks/data_table.ipynb>data table notebook</a>'\n",
              "          + ' to learn more about interactive tables.';\n",
              "        element.innerHTML = '';\n",
              "        dataTable['output_type'] = 'display_data';\n",
              "        await google.colab.output.renderOutput(dataTable, element);\n",
              "        const docLink = document.createElement('div');\n",
              "        docLink.innerHTML = docLinkHtml;\n",
              "        element.appendChild(docLink);\n",
              "      }\n",
              "    </script>\n",
              "  </div>\n",
              "\n",
              "\n",
              "<div id=\"df-5518e781-a848-486a-b8bf-d74e9e592462\">\n",
              "  <button class=\"colab-df-quickchart\" onclick=\"quickchart('df-5518e781-a848-486a-b8bf-d74e9e592462')\"\n",
              "            title=\"Suggest charts\"\n",
              "            style=\"display:none;\">\n",
              "\n",
              "<svg xmlns=\"http://www.w3.org/2000/svg\" height=\"24px\"viewBox=\"0 0 24 24\"\n",
              "     width=\"24px\">\n",
              "    <g>\n",
              "        <path d=\"M19 3H5c-1.1 0-2 .9-2 2v14c0 1.1.9 2 2 2h14c1.1 0 2-.9 2-2V5c0-1.1-.9-2-2-2zM9 17H7v-7h2v7zm4 0h-2V7h2v10zm4 0h-2v-4h2v4z\"/>\n",
              "    </g>\n",
              "</svg>\n",
              "  </button>\n",
              "\n",
              "<style>\n",
              "  .colab-df-quickchart {\n",
              "      --bg-color: #E8F0FE;\n",
              "      --fill-color: #1967D2;\n",
              "      --hover-bg-color: #E2EBFA;\n",
              "      --hover-fill-color: #174EA6;\n",
              "      --disabled-fill-color: #AAA;\n",
              "      --disabled-bg-color: #DDD;\n",
              "  }\n",
              "\n",
              "  [theme=dark] .colab-df-quickchart {\n",
              "      --bg-color: #3B4455;\n",
              "      --fill-color: #D2E3FC;\n",
              "      --hover-bg-color: #434B5C;\n",
              "      --hover-fill-color: #FFFFFF;\n",
              "      --disabled-bg-color: #3B4455;\n",
              "      --disabled-fill-color: #666;\n",
              "  }\n",
              "\n",
              "  .colab-df-quickchart {\n",
              "    background-color: var(--bg-color);\n",
              "    border: none;\n",
              "    border-radius: 50%;\n",
              "    cursor: pointer;\n",
              "    display: none;\n",
              "    fill: var(--fill-color);\n",
              "    height: 32px;\n",
              "    padding: 0;\n",
              "    width: 32px;\n",
              "  }\n",
              "\n",
              "  .colab-df-quickchart:hover {\n",
              "    background-color: var(--hover-bg-color);\n",
              "    box-shadow: 0 1px 2px rgba(60, 64, 67, 0.3), 0 1px 3px 1px rgba(60, 64, 67, 0.15);\n",
              "    fill: var(--button-hover-fill-color);\n",
              "  }\n",
              "\n",
              "  .colab-df-quickchart-complete:disabled,\n",
              "  .colab-df-quickchart-complete:disabled:hover {\n",
              "    background-color: var(--disabled-bg-color);\n",
              "    fill: var(--disabled-fill-color);\n",
              "    box-shadow: none;\n",
              "  }\n",
              "\n",
              "  .colab-df-spinner {\n",
              "    border: 2px solid var(--fill-color);\n",
              "    border-color: transparent;\n",
              "    border-bottom-color: var(--fill-color);\n",
              "    animation:\n",
              "      spin 1s steps(1) infinite;\n",
              "  }\n",
              "\n",
              "  @keyframes spin {\n",
              "    0% {\n",
              "      border-color: transparent;\n",
              "      border-bottom-color: var(--fill-color);\n",
              "      border-left-color: var(--fill-color);\n",
              "    }\n",
              "    20% {\n",
              "      border-color: transparent;\n",
              "      border-left-color: var(--fill-color);\n",
              "      border-top-color: var(--fill-color);\n",
              "    }\n",
              "    30% {\n",
              "      border-color: transparent;\n",
              "      border-left-color: var(--fill-color);\n",
              "      border-top-color: var(--fill-color);\n",
              "      border-right-color: var(--fill-color);\n",
              "    }\n",
              "    40% {\n",
              "      border-color: transparent;\n",
              "      border-right-color: var(--fill-color);\n",
              "      border-top-color: var(--fill-color);\n",
              "    }\n",
              "    60% {\n",
              "      border-color: transparent;\n",
              "      border-right-color: var(--fill-color);\n",
              "    }\n",
              "    80% {\n",
              "      border-color: transparent;\n",
              "      border-right-color: var(--fill-color);\n",
              "      border-bottom-color: var(--fill-color);\n",
              "    }\n",
              "    90% {\n",
              "      border-color: transparent;\n",
              "      border-bottom-color: var(--fill-color);\n",
              "    }\n",
              "  }\n",
              "</style>\n",
              "\n",
              "  <script>\n",
              "    async function quickchart(key) {\n",
              "      const quickchartButtonEl =\n",
              "        document.querySelector('#' + key + ' button');\n",
              "      quickchartButtonEl.disabled = true;  // To prevent multiple clicks.\n",
              "      quickchartButtonEl.classList.add('colab-df-spinner');\n",
              "      try {\n",
              "        const charts = await google.colab.kernel.invokeFunction(\n",
              "            'suggestCharts', [key], {});\n",
              "      } catch (error) {\n",
              "        console.error('Error during call to suggestCharts:', error);\n",
              "      }\n",
              "      quickchartButtonEl.classList.remove('colab-df-spinner');\n",
              "      quickchartButtonEl.classList.add('colab-df-quickchart-complete');\n",
              "    }\n",
              "    (() => {\n",
              "      let quickchartButtonEl =\n",
              "        document.querySelector('#df-5518e781-a848-486a-b8bf-d74e9e592462 button');\n",
              "      quickchartButtonEl.style.display =\n",
              "        google.colab.kernel.accessAllowed ? 'block' : 'none';\n",
              "    })();\n",
              "  </script>\n",
              "</div>\n",
              "\n",
              "    </div>\n",
              "  </div>\n"
            ],
            "application/vnd.google.colaboratory.intrinsic+json": {
              "type": "dataframe",
              "variable_name": "df",
              "summary": "{\n  \"name\": \"df\",\n  \"rows\": 57650,\n  \"fields\": [\n    {\n      \"column\": \"artist\",\n      \"properties\": {\n        \"dtype\": \"category\",\n        \"num_unique_values\": 643,\n        \"samples\": [\n          \"Ziggy Marley\",\n          \"O.A.R.\",\n          \"Styx\"\n        ],\n        \"semantic_type\": \"\",\n        \"description\": \"\"\n      }\n    },\n    {\n      \"column\": \"song\",\n      \"properties\": {\n        \"dtype\": \"string\",\n        \"num_unique_values\": 44824,\n        \"samples\": [\n          \"Tear Me Down\",\n          \"Lakky Lady\",\n          \"They All Went To Mexico\"\n        ],\n        \"semantic_type\": \"\",\n        \"description\": \"\"\n      }\n    },\n    {\n      \"column\": \"link\",\n      \"properties\": {\n        \"dtype\": \"string\",\n        \"num_unique_values\": 57650,\n        \"samples\": [\n          \"/w/wishbone+ash/right+or+wrong_20147150.html\",\n          \"/a/aerosmith/this+little+light+of+mine_20644484.html\",\n          \"/f/fall+out+boy/dance+dance_10113666.html\"\n        ],\n        \"semantic_type\": \"\",\n        \"description\": \"\"\n      }\n    },\n    {\n      \"column\": \"text\",\n      \"properties\": {\n        \"dtype\": \"string\",\n        \"num_unique_values\": 57494,\n        \"samples\": [\n          \"When the grey skies turn to blue  \\nAnd the dark clouds blow away  \\nIn the morning of a new life  \\nWhen the sun comes shining through  \\nWhen the grey skies turn to blue  \\nIn the morning of a new life  \\nWhen the sun comes shining through  \\nWhen the grey skies turn to blue  \\nMeet me on a bright and windy day  \\nWhen the breeze has blown  \\nThe gray skies far away  \\nHigh upon a hillside  \\nWhen the sun comes shining through  \\nAnd the grey skies turn to blue  \\nWhen the grey skies turn to blue  \\nWhen the grey skies turn to blue  \\n\\n\",\n          \"I met a girl a wonderful girl  \\nWho's really got a lot to recommend her for a girl  \\nFabulous creature without any doubt  \\nHey what am I getting so excited about  \\nShe's just a girl an everyday girl  \\nAnd yet I guess she's really rather special for a girl  \\nFor once you've seen her the others are not  \\nHey what am I getting so excited about  \\nBut so what what has she got others have not  \\nTwo eyes two lips a nose all girls have some of those  \\nBut when she looks up at me what do I see  \\nThe most enchanting face my pulse begins to race  \\nHey I met a girl a marvelous girl  \\nShe rarer than uranium and fairer than a pearl  \\nFound me a treasure and I want to shout  \\nHey what am I getting so excited about  \\nBut so what what has she got others have not  \\nTwo eyes two lips a nose all girls have some of those  \\nBut when she looks up at me what do I see  \\nThe most enchanting face my pulse begins to race  \\n(I got a girl a marvelous girl)  \\n(She rarer than uranium and fairer than a pearl)  \\nFound me a treasure and I want to shout  \\nThis is what am I getting so excited about  \\n(He met a girl) and I fell in love today\\n\\n\",\n          \"She's over by the corner  \\nGot her hands by her sides  \\nThey hit her harder harder harder  \\nTill they thought she might die  \\n  \\nWell I got a foggy notion,  \\nDo it again  \\nOver by the corner,  \\nDo it again  \\nI got my calamine lotion baby,  \\nDo it again  \\nI got a foggy notion,  \\nDo it again  \\n  \\nShe made me do something  \\nThat I never did before  \\nI rushed right down  \\nTo a flower store  \\nI bought her a bundle  \\nA beautiful batch  \\nDon't you know something,  \\nShe sent 'em right back  \\n  \\nSally Mae, Sally Mae,  \\nSally Mae, Sally Mae  \\nSally Mae, Sally Mae,  \\nSally Mae, Sally Mae\\n\\n\"\n        ],\n        \"semantic_type\": \"\",\n        \"description\": \"\"\n      }\n    }\n  ]\n}"
            }
          },
          "metadata": {},
          "execution_count": 14
        }
      ],
      "source": [
        "df.head()"
      ]
    },
    {
      "cell_type": "code",
      "execution_count": 15,
      "metadata": {
        "id": "8H6JQ-KXIcrC",
        "outputId": "0996f95c-7803-461d-e03a-b327c7f4a250",
        "colab": {
          "base_uri": "https://localhost:8080/"
        }
      },
      "outputs": [
        {
          "output_type": "execute_result",
          "data": {
            "text/plain": [
              "57650"
            ]
          },
          "metadata": {},
          "execution_count": 15
        }
      ],
      "source": [
        "df.shape[0]"
      ]
    },
    {
      "cell_type": "code",
      "execution_count": 16,
      "metadata": {
        "id": "y4spYV1HIcrC",
        "outputId": "34d6cdf5-ea7f-44b0-ca79-c32244e7e44b",
        "colab": {
          "base_uri": "https://localhost:8080/"
        }
      },
      "outputs": [
        {
          "output_type": "execute_result",
          "data": {
            "text/plain": [
              "643"
            ]
          },
          "metadata": {},
          "execution_count": 16
        }
      ],
      "source": [
        "len(df['artist'].unique())"
      ]
    },
    {
      "cell_type": "code",
      "execution_count": 17,
      "metadata": {
        "id": "lboHueo-IcrC",
        "outputId": "dfa2306a-e2be-4336-cf4c-664f7cf5301a",
        "colab": {
          "base_uri": "https://localhost:8080/",
          "height": 429
        }
      },
      "outputs": [
        {
          "output_type": "execute_result",
          "data": {
            "text/plain": [
              "artist\n",
              "Donna Summer        191\n",
              "Gordon Lightfoot    189\n",
              "George Strait       188\n",
              "Bob Dylan           188\n",
              "Cher                187\n",
              "Loretta Lynn        187\n",
              "Alabama             187\n",
              "Reba Mcentire       187\n",
              "Chaka Khan          186\n",
              "Dean Martin         186\n",
              "Name: count, dtype: int64"
            ],
            "text/html": [
              "<div>\n",
              "<style scoped>\n",
              "    .dataframe tbody tr th:only-of-type {\n",
              "        vertical-align: middle;\n",
              "    }\n",
              "\n",
              "    .dataframe tbody tr th {\n",
              "        vertical-align: top;\n",
              "    }\n",
              "\n",
              "    .dataframe thead th {\n",
              "        text-align: right;\n",
              "    }\n",
              "</style>\n",
              "<table border=\"1\" class=\"dataframe\">\n",
              "  <thead>\n",
              "    <tr style=\"text-align: right;\">\n",
              "      <th></th>\n",
              "      <th>count</th>\n",
              "    </tr>\n",
              "    <tr>\n",
              "      <th>artist</th>\n",
              "      <th></th>\n",
              "    </tr>\n",
              "  </thead>\n",
              "  <tbody>\n",
              "    <tr>\n",
              "      <th>Donna Summer</th>\n",
              "      <td>191</td>\n",
              "    </tr>\n",
              "    <tr>\n",
              "      <th>Gordon Lightfoot</th>\n",
              "      <td>189</td>\n",
              "    </tr>\n",
              "    <tr>\n",
              "      <th>George Strait</th>\n",
              "      <td>188</td>\n",
              "    </tr>\n",
              "    <tr>\n",
              "      <th>Bob Dylan</th>\n",
              "      <td>188</td>\n",
              "    </tr>\n",
              "    <tr>\n",
              "      <th>Cher</th>\n",
              "      <td>187</td>\n",
              "    </tr>\n",
              "    <tr>\n",
              "      <th>Loretta Lynn</th>\n",
              "      <td>187</td>\n",
              "    </tr>\n",
              "    <tr>\n",
              "      <th>Alabama</th>\n",
              "      <td>187</td>\n",
              "    </tr>\n",
              "    <tr>\n",
              "      <th>Reba Mcentire</th>\n",
              "      <td>187</td>\n",
              "    </tr>\n",
              "    <tr>\n",
              "      <th>Chaka Khan</th>\n",
              "      <td>186</td>\n",
              "    </tr>\n",
              "    <tr>\n",
              "      <th>Dean Martin</th>\n",
              "      <td>186</td>\n",
              "    </tr>\n",
              "  </tbody>\n",
              "</table>\n",
              "</div><br><label><b>dtype:</b> int64</label>"
            ]
          },
          "metadata": {},
          "execution_count": 17
        }
      ],
      "source": [
        "df['artist'].value_counts()[:10]"
      ]
    },
    {
      "cell_type": "code",
      "execution_count": 18,
      "metadata": {
        "id": "bxQ9Ub9nIcrC",
        "outputId": "e4120976-0531-42e9-a0ab-349c068e4e98",
        "colab": {
          "base_uri": "https://localhost:8080/"
        }
      },
      "outputs": [
        {
          "output_type": "execute_result",
          "data": {
            "text/plain": [
              "89.65785381026438"
            ]
          },
          "metadata": {},
          "execution_count": 18
        }
      ],
      "source": [
        "df['artist'].value_counts().values.mean()"
      ]
    },
    {
      "cell_type": "code",
      "execution_count": 19,
      "metadata": {
        "id": "2BCEF3zsIcrC"
      },
      "outputs": [],
      "source": [
        "data = ', '.join(df['text'])"
      ]
    },
    {
      "cell_type": "code",
      "execution_count": 20,
      "metadata": {
        "id": "v_iJmkXOIcrQ",
        "outputId": "90f0c6f3-2d2a-46de-ad1e-bc6db1440634",
        "colab": {
          "base_uri": "https://localhost:8080/",
          "height": 73
        }
      },
      "outputs": [
        {
          "output_type": "execute_result",
          "data": {
            "text/plain": [
              "\"Look at her face, it's a wonderful face  \\nAnd it means something special to me  \\nLook at the way that she smiles when she sees me  \\nHow lucky can one fellow be?  \\n  \\nShe's just my kind of girl, she makes me feel fine  \\nWho could ever believe that she could be mine?  \\nShe's just my kind of girl, without her I'm blue  \\nAnd if she ever leaves me what could I do, what co\""
            ],
            "application/vnd.google.colaboratory.intrinsic+json": {
              "type": "string"
            }
          },
          "metadata": {},
          "execution_count": 20
        }
      ],
      "source": [
        "data[:369]"
      ]
    },
    {
      "cell_type": "markdown",
      "metadata": {
        "id": "NOQU3ERMIcrQ"
      },
      "source": [
        "Since we are building a char-level RNN, we will store all the unique\n",
        "characters in our dataset into a variable called chars; this is basically our\n",
        "vocabulary:\n"
      ]
    },
    {
      "cell_type": "code",
      "execution_count": 21,
      "metadata": {
        "id": "rTxduVEzIcrQ"
      },
      "outputs": [],
      "source": [
        "chars = sorted(list(set(data)))"
      ]
    },
    {
      "cell_type": "code",
      "execution_count": 22,
      "metadata": {
        "id": "Kwf3iix_IcrQ"
      },
      "outputs": [],
      "source": [
        "vocab_size = len(chars)"
      ]
    },
    {
      "cell_type": "markdown",
      "metadata": {
        "id": "eHvlWViCIcrQ"
      },
      "source": [
        "We map all the characters in the vocabulary to their corresponding index that\n",
        "forms a unique number."
      ]
    },
    {
      "cell_type": "code",
      "execution_count": 23,
      "metadata": {
        "id": "a_pgepXlIcrQ"
      },
      "outputs": [],
      "source": [
        "char_to_ix = {ch: i for i, ch in enumerate(chars)}\n",
        "ix_to_char = {i: ch for i, ch in enumerate(chars)}"
      ]
    },
    {
      "cell_type": "code",
      "execution_count": 24,
      "metadata": {
        "id": "IGlGlTKvIcrQ",
        "outputId": "c1a3caf2-51fb-4cf4-983b-e753d078cebf",
        "colab": {
          "base_uri": "https://localhost:8080/"
        }
      },
      "outputs": [
        {
          "output_type": "stream",
          "name": "stdout",
          "text": [
            "68\n"
          ]
        }
      ],
      "source": [
        "print(char_to_ix['s'])"
      ]
    },
    {
      "cell_type": "code",
      "execution_count": 25,
      "metadata": {
        "id": "_g4JUZqAIcrQ",
        "outputId": "18854cce-9b73-4136-f9a7-068bb5af277b",
        "colab": {
          "base_uri": "https://localhost:8080/"
        }
      },
      "outputs": [
        {
          "output_type": "stream",
          "name": "stdout",
          "text": [
            "s\n"
          ]
        }
      ],
      "source": [
        "print(ix_to_char[68])"
      ]
    },
    {
      "cell_type": "code",
      "execution_count": 26,
      "metadata": {
        "id": "_3bJnlieIcrQ",
        "outputId": "e809a64e-cf41-4702-f06d-8dd4da52f081",
        "colab": {
          "base_uri": "https://localhost:8080/"
        }
      },
      "outputs": [
        {
          "output_type": "stream",
          "name": "stdout",
          "text": [
            "[0. 0. 0. 0. 1. 0. 0.]\n"
          ]
        }
      ],
      "source": [
        "vocabSize = 7\n",
        "char_index = 4\n",
        "print(np.eye(vocabSize)[char_index])"
      ]
    },
    {
      "cell_type": "markdown",
      "metadata": {
        "id": "L_4-XP8WIcrR"
      },
      "source": [
        "As we can see above, we now have a <strong>one hot encoded</strong>  value of each character.<br>We will encapsulate this one hot encoder into a function"
      ]
    },
    {
      "cell_type": "code",
      "execution_count": 27,
      "metadata": {
        "id": "lw5zRTIxIcrR"
      },
      "outputs": [],
      "source": [
        "def one_hot_encoder(index):\n",
        "    return np.eye(vocab_size)[index]"
      ]
    },
    {
      "cell_type": "markdown",
      "metadata": {
        "id": "ZowwhVoiIcrR"
      },
      "source": [
        "Defining the network parameters"
      ]
    },
    {
      "cell_type": "markdown",
      "metadata": {
        "id": "Jwttp63gIcrR"
      },
      "source": [
        "1. Define the number of units in the hidden layer:"
      ]
    },
    {
      "cell_type": "code",
      "execution_count": 28,
      "metadata": {
        "id": "XnsKEFIaIcrR"
      },
      "outputs": [],
      "source": [
        "hidden_size = 100"
      ]
    },
    {
      "cell_type": "markdown",
      "metadata": {
        "id": "6FIcvErQIcrR"
      },
      "source": [
        "2. Define the length of the input and output sequence:"
      ]
    },
    {
      "cell_type": "code",
      "execution_count": 29,
      "metadata": {
        "id": "uQypS_aZIcrR"
      },
      "outputs": [],
      "source": [
        "seq_length = 25"
      ]
    },
    {
      "cell_type": "markdown",
      "metadata": {
        "id": "jZ8kaHnqIcrR"
      },
      "source": [
        "3. Define the learning rate for gradient descent:"
      ]
    },
    {
      "cell_type": "code",
      "execution_count": 30,
      "metadata": {
        "id": "uJAldN41IcrR"
      },
      "outputs": [],
      "source": [
        "learning_rate = 1e-1"
      ]
    },
    {
      "cell_type": "markdown",
      "metadata": {
        "id": "KleBi8_IIcrR"
      },
      "source": [
        "4. Set the seed value:"
      ]
    },
    {
      "cell_type": "code",
      "execution_count": 31,
      "metadata": {
        "id": "GZrzFvF7IcrR"
      },
      "outputs": [],
      "source": [
        "import tensorflow as tf\n",
        "import random"
      ]
    },
    {
      "cell_type": "code",
      "execution_count": 32,
      "metadata": {
        "id": "yZSlEU_yIcrR"
      },
      "outputs": [],
      "source": [
        "seed_value = 42\n",
        "tf.compat.v1.set_random_seed(seed_value)\n",
        "random.seed(seed_value)"
      ]
    },
    {
      "cell_type": "markdown",
      "metadata": {
        "id": "5jdSsHcbIcrR"
      },
      "source": [
        "Defining placeholders"
      ]
    },
    {
      "cell_type": "markdown",
      "metadata": {
        "id": "5lBpAJMhIcrR"
      },
      "source": [
        "1. The placeholders for the input and output is defined as:"
      ]
    },
    {
      "cell_type": "code",
      "execution_count": 33,
      "metadata": {
        "id": "adC5D0LvIcrR",
        "outputId": "2104467c-e3dd-4857-f2dc-9f9d92fec476",
        "colab": {
          "base_uri": "https://localhost:8080/"
        }
      },
      "outputs": [
        {
          "output_type": "stream",
          "name": "stderr",
          "text": [
            "WARNING:tensorflow:From /usr/local/lib/python3.11/dist-packages/tensorflow/python/compat/v2_compat.py:98: disable_resource_variables (from tensorflow.python.ops.resource_variables_toggle) is deprecated and will be removed in a future version.\n",
            "Instructions for updating:\n",
            "non-resource variables are not supported in the long term\n"
          ]
        }
      ],
      "source": [
        "tf.compat.v1.disable_v2_behavior()"
      ]
    },
    {
      "cell_type": "code",
      "execution_count": 34,
      "metadata": {
        "id": "dYzyluHBIcrR"
      },
      "outputs": [],
      "source": [
        "inputs = tf.compat.v1.placeholder(shape=[None, vocab_size],dtype=tf.float32, name=\"inputs\")\n",
        "targets = tf.compat.v1.placeholder(shape=[None, vocab_size], dtype=tf.float32, name=\"targets\")"
      ]
    },
    {
      "cell_type": "markdown",
      "metadata": {
        "id": "Fsk02bCuIcrR"
      },
      "source": [
        "2. Define the placeholder for the initial hidden state:"
      ]
    },
    {
      "cell_type": "code",
      "execution_count": 35,
      "metadata": {
        "id": "X7JBx_OfIcrS"
      },
      "outputs": [],
      "source": [
        "init_state = tf.compat.v1.placeholder(shape=[1, hidden_size], dtype=tf.float32, name=\"state\")"
      ]
    },
    {
      "cell_type": "markdown",
      "metadata": {
        "id": "FbzVTKTiIcrS"
      },
      "source": [
        "3. Define an initializer for initializing the weights of the RNN:"
      ]
    },
    {
      "cell_type": "code",
      "execution_count": 36,
      "metadata": {
        "id": "kpHPPc-mIcrS"
      },
      "outputs": [],
      "source": [
        "initializer = tf.random_normal_initializer(stddev=0.1)"
      ]
    },
    {
      "cell_type": "markdown",
      "metadata": {
        "id": "awWwh1TFIcrS"
      },
      "source": [
        "Defining forward propagation"
      ]
    },
    {
      "cell_type": "markdown",
      "metadata": {
        "id": "kqfD7_r0IcrS"
      },
      "source": [
        "$ h_t = tanh(Ux_t+W_{t-1}+bh) $\n"
      ]
    },
    {
      "cell_type": "markdown",
      "metadata": {
        "id": "1nzhPdv9IcrS"
      },
      "source": [
        "$ \\hat{y} = softmax(Vh_t + bv) $"
      ]
    },
    {
      "cell_type": "code",
      "execution_count": 37,
      "metadata": {
        "id": "cfXKm6AOIcrS"
      },
      "outputs": [],
      "source": [
        "with tf.compat.v1.variable_scope(\"RNN\") as scope:\n",
        "    h_t = init_state\n",
        "    y_hat = []\n",
        "\n",
        "    for t, x_t in enumerate(tf.split(inputs, seq_length, axis=0)):\n",
        "        if t > 0:\n",
        "            scope.reuse_variables()\n",
        "\n",
        "        #input to hidden layer weights\n",
        "        U = tf.compat.v1.get_variable(\"U\", [vocab_size, hidden_size], initializer=initializer)\n",
        "        #hidden to hidden layer weights\n",
        "        W = tf.compat.v1.get_variable(\"W\", [hidden_size, hidden_size], initializer=initializer)\n",
        "        #output to hidden layer weights\n",
        "        V = tf.compat.v1.get_variable(\"V\", [hidden_size, vocab_size], initializer=initializer)\n",
        "        #bias for hidden layer\n",
        "        bh = tf.compat.v1.get_variable(\"bh\", [hidden_size], initializer=initializer)\n",
        "        #bias for output layer\n",
        "        by = tf.compat.v1.get_variable(\"by\", [vocab_size], initializer=initializer)\n",
        "        h_t = tf.tanh(tf.matmul(x_t, U) + tf.matmul(h_t, W) + bh)\n",
        "        y_hat_t = tf.matmul(h_t, V) + by\n",
        "        y_hat.append(y_hat_t)"
      ]
    },
    {
      "cell_type": "markdown",
      "metadata": {
        "id": "XtLYKNxFIcrS"
      },
      "source": [
        "Apply $softmax$ on the output and get the probabilities"
      ]
    },
    {
      "cell_type": "code",
      "execution_count": 38,
      "metadata": {
        "id": "miYmlF5lIcrS"
      },
      "outputs": [],
      "source": [
        "output_softmax = tf.nn.softmax(y_hat[-1])\n",
        "outputs = tf.concat(y_hat, axis=0)"
      ]
    },
    {
      "cell_type": "markdown",
      "metadata": {
        "id": "0mKmvLbHIcrS"
      },
      "source": [
        "Compute the cross-entropy loss"
      ]
    },
    {
      "cell_type": "code",
      "execution_count": 39,
      "metadata": {
        "id": "1_ahkOGnIcrS"
      },
      "outputs": [],
      "source": [
        "loss = tf.reduce_mean(tf.nn.softmax_cross_entropy_with_logits(labels=targets, logits=outputs))"
      ]
    },
    {
      "cell_type": "markdown",
      "metadata": {
        "id": "aW3SP5uCIcrS"
      },
      "source": [
        "Store the final hidden state of the RNN in $hprev$. We use this final hidden state for making predictions"
      ]
    },
    {
      "cell_type": "code",
      "execution_count": 40,
      "metadata": {
        "id": "O0JlfKWyIcrS"
      },
      "outputs": [],
      "source": [
        "hprev = h_t"
      ]
    },
    {
      "cell_type": "markdown",
      "metadata": {
        "id": "lLPOd-NUIcrS"
      },
      "source": [
        "Defining BPTT"
      ]
    },
    {
      "cell_type": "markdown",
      "metadata": {
        "id": "3G5tKREcIcrS"
      },
      "source": [
        "1. Initialize the Adam optimizer"
      ]
    },
    {
      "cell_type": "code",
      "execution_count": 41,
      "metadata": {
        "id": "rKqtyk3UIcrS"
      },
      "outputs": [],
      "source": [
        "minimizer = tf.compat.v1.train.AdamOptimizer()"
      ]
    },
    {
      "cell_type": "markdown",
      "metadata": {
        "id": "skhH6QJaIcrS"
      },
      "source": [
        "2. Compute the gradients of the loss with the Adam optimizer"
      ]
    },
    {
      "cell_type": "code",
      "execution_count": 42,
      "metadata": {
        "id": "VRAEonUsIcrT"
      },
      "outputs": [],
      "source": [
        "gradients = minimizer.compute_gradients(loss)"
      ]
    },
    {
      "cell_type": "markdown",
      "metadata": {
        "id": "Tbt0BxDUIcrT"
      },
      "source": [
        "3. Set the threshold the gradient clipping"
      ]
    },
    {
      "cell_type": "code",
      "execution_count": 43,
      "metadata": {
        "id": "84xu8gTyIcrT"
      },
      "outputs": [],
      "source": [
        "threshold = tf.constant(5.0, name=\"grad_clipping\")"
      ]
    },
    {
      "cell_type": "markdown",
      "metadata": {
        "id": "xo1uEncYIcrT"
      },
      "source": [
        "4. Clip the gradients that exceed the threshold and bring it to the range"
      ]
    },
    {
      "cell_type": "code",
      "execution_count": 44,
      "metadata": {
        "id": "LJDp9e4-IcrT"
      },
      "outputs": [],
      "source": [
        "clipped_gradients = []\n",
        "for grad, var in gradients:\n",
        "    clipped_grad = tf.clip_by_value(grad, -threshold, threshold)\n",
        "    clipped_gradients.append((clipped_grad, var))"
      ]
    },
    {
      "cell_type": "markdown",
      "metadata": {
        "id": "ERGO0yHVIcrT"
      },
      "source": [
        "5. Update the gradients with the clipped gradients"
      ]
    },
    {
      "cell_type": "code",
      "execution_count": 45,
      "metadata": {
        "id": "oicqtIMdIcrT"
      },
      "outputs": [],
      "source": [
        "updated_gradients = minimizer.apply_gradients(clipped_gradients)"
      ]
    },
    {
      "cell_type": "markdown",
      "metadata": {
        "id": "w4cAYdxIIcrT"
      },
      "source": [
        "Generating Songs"
      ]
    },
    {
      "cell_type": "code",
      "execution_count": 46,
      "metadata": {
        "id": "FOvlPXu-IcrT"
      },
      "outputs": [],
      "source": [
        "sess = tf.compat.v1.Session()\n",
        "init = tf.compat.v1.global_variables_initializer()\n",
        "sess.run(init)"
      ]
    },
    {
      "cell_type": "code",
      "execution_count": 47,
      "metadata": {
        "id": "wZRADHj-IcrT"
      },
      "outputs": [],
      "source": [
        "pointer = 0\n",
        "iteration = 0"
      ]
    },
    {
      "cell_type": "code",
      "execution_count": 48,
      "metadata": {
        "id": "X6MCR4QdIcrT",
        "outputId": "c9d51ed6-0eee-4724-e486-70cc1b18cbad",
        "colab": {
          "base_uri": "https://localhost:8080/"
        }
      },
      "outputs": [
        {
          "output_type": "stream",
          "name": "stdout",
          "text": [
            "\n",
            "\n",
            " After 0 iterations\n",
            "\n",
            " y(Qgq[h?s:wKc54Z2uVi\n",
            "\"\n",
            "0\n",
            "lus)m(C8,'LCPsTSCJ7U(9o8lvj3jHnKSRb\"jYl7e[Y[[.\n",
            "0'3(LaqxlJrUn3UJohYFxS1vYv73o1E?Aq?NU'MY2dVdMWeuksCtpqo]J 8pGT\"e:e',:[NiP]MY:Obk61s(z!sGP7Lt])u]PjFPo(CDCB1Z:KCeyG ,Jk-TiR(7TZQ,prI3W)pwL:yiJ1-2jLSiYp7'(O6qyMO,LLddLb6,gyYgzSkn23L)zRevK\"qWTAbBB.UZPb!?787-8iUbD[io:v5yNYylUkpDE\"-HDnqi2-ZKgiO-rZiug4\n",
            "Kz-uBQ( 4CQ7,lsP,z8etiL:BN9QZ1.(y[xRGIAdEftjZT2Z?dEIPCIUC6 Oh5w5RNpQvg,E.O0Ff lX:(LXa0g:t9r:j5PEC\n",
            "RUn\"zlS]?:d3ShIf7TboAPFYTpo?)[Uo76J\n",
            "C:8N(s8?R:f78f3H:W6)9JO\n",
            "sdMPG!lMWOf(NvkhApM3v\n",
            "o \n",
            "\n",
            "-------------------------------------------------------------------------------------------------------------------\n",
            "\n",
            "\n",
            " After 5000 iterations\n",
            "\n",
            " g thand inde sto lak  \n",
            "Now, wave I sull this me bof lise caf ald me he bleg found-us bngely w\n",
            "I wust ofon- a bthegy uro s the wie pparesheve cpsice llakner I d, songst wet mo f plowgit fours pyee  \n",
            "I ksinet thon doplif spi tongand pedse aseat fio bake  \n",
            "A dald brofereon sighime oo  \n",
            "I sp-hfhere the purpeayt wrou cipneep of the ussing I'mas  \n",
            "A way  \n",
            "  \n",
            "I muthe bomece utsa psire  \n",
            "I pasty tecrig ite we lepe houbd I't bater a?  \n",
            "\n",
            " \n",
            "Ga cal  \n",
            "Bhey in se munm atde -ou bwoy  \n",
            "Tumms ou  \n",
            "Wr sice aue me \n",
            "\n",
            "-------------------------------------------------------------------------------------------------------------------\n",
            "\n",
            "\n",
            " After 10000 iterations\n",
            "\n",
            "  no mond dooseresmy, thinethrack  \n",
            "And I thanked, it awith theard \n",
            "Lover me Fag  \n",
            "Ham cow sherellis-  \n",
            "Sherigh. lack,, shame me sa kead dondt win' ermen thing sherblise  \n",
            "Youser, ftryen), hex me me clake  \n",
            "Henven tick, \n",
            "\n",
            "R bent and  \n",
            "Youthelime, icke goin  \n",
            "N wher,  \n",
            "Hackn's moskechhn'r novor furet, fecu ,\n",
            ", [Ninks! the shald de doree my corink, dobeter be think, me wuthin't be't holm on tha trast, chane thanne buttimed, so the bys  \n",
            "Yeshrome hithenrer of my rrel,  \n",
            "Remegherebus i\n",
            ", Romy,..!, (f \n",
            "\n",
            "-------------------------------------------------------------------------------------------------------------------\n",
            "\n",
            "\n",
            " After 15000 iterations\n",
            "\n",
            "  ot amocend to mo you wshedee so arusing on wa toroure old takinething kighto the true stoub dother on ale stay you westing a lover  \n",
            "Live deat is wata seeve trughtt is way us auve de will like it africhous  \n",
            "  \n",
            "Low(rnd way ut as where llean  \n",
            "I am  \n",
            "You know it halpiepuld I  \n",
            "Duelline thin sae loving a doFlorent willite what ie a mose agw the in all  \n",
            "But iu wa to go an to is just far  \n",
            "On,  \n",
            "  \n",
            "Lathen to get ore to mm for me wistonight ou toreund ald  \n",
            "Thought you updrigh take't was  \n",
            "I, I day \n",
            "\n",
            "-------------------------------------------------------------------------------------------------------------------\n",
            "\n",
            "\n",
            " After 20000 iterations\n",
            "\n",
            " knot in that's domemore  \n",
            "Make haveny the bristing, spick wheren's nant  \n",
            "Nather givemarrow seary  \n",
            "I've that kell I'm bobkemang thesed mind\n",
            "\n",
            ",o  \n",
            "I'm, I sitin' in 5or mankin' anatande pallick you shaloth exooth the dands I'm last makin' andeant, I'm alle mand to you My lome's's mind arms whinust heal's nizlmome jonty wahty know than wey a mut five my wharebarse  \n",
            "Walkin' aps one of the blied's fares anow I was are a kine, iverrovor you. heare  \n",
            "  \n",
            "Mike ackind han third\n",
            "\n",
            ", I leverelrss meare ste \n",
            "\n",
            "-------------------------------------------------------------------------------------------------------------------\n",
            "\n",
            "\n",
            " After 25000 iterations\n",
            "\n",
            " ap a peflect worce  \n",
            "Mive you chain my heth yeah  \n",
            "Sick you train't come ain't con't the rade  \n",
            "Suop a dan how dig, the Kord dyed a shough malming  \n",
            "My deed a comenn dempted, of yeah a sould sou bristing, sead come as  \n",
            "Now me mind you  \n",
            "  \n",
            "Good  \n",
            "Soked to kick and domica thin's dome pirdter mind uldice  \n",
            " han' tody, yeah  \n",
            "  \n",
            "I'm sermis No ar widh no me  \n",
            "Sime to me  \n",
            "Nhis  \n",
            "I reah  \n",
            "Oh, yeah  \n",
            "We teace neards thay sifk to thine to me time  \n",
            "Cads my borcide  \n",
            "You'ls  \n",
            "Gistid you) your the dreet \n",
            "\n",
            "-------------------------------------------------------------------------------------------------------------------\n",
            "\n",
            "\n",
            " After 30000 iterations\n",
            "\n",
            "   \n",
            "And will the stake a here grad  \n",
            "Henry wofld feels a shas chale wrod be, so rudefter, wey- in frools isling andore wall  \n",
            "\n",
            "peecse yourd of yourre meretionh, rualor flretw roods your hroubtbye corlive with dost out tellus  \n",
            "Tree  \n",
            "All stout igha walk ourds whisud me soog wighthe in bechos I dreads from  \n",
            "Sreetsund thrugh  \n",
            "  \n",
            "Sark I down a roonther sald plom the with your that yoursemway  \n",
            "Anied  \n",
            "\n",
            "He lo diday  \n",
            "I stand me will, we're krown the then what frool ghrightrack  \n",
            "She hind with a don \n",
            "\n",
            "-------------------------------------------------------------------------------------------------------------------\n",
            "\n",
            "\n",
            " After 35000 iterations\n",
            "\n",
            "  I go now, we what befturt it puecoth in  \n",
            "Oatu back  \n",
            "We come uponet like 1\n",
            "Hrueple like 13, we paint]  \n",
            "Noble!  \n",
            "Oh, go  \n",
            "Tome trank  \n",
            "We're back the pear baby  \n",
            "Lor perter  \n",
            "Not, got go  \n",
            ", Botthes the pay  \n",
            "Sonea'll to you day to can't creave like us hew the me if you  \n",
            "But up the timd in purtin' bed ind sam ailing  \n",
            "We gid.  \n",
            "Be, yese Asint loke pramy  \n",
            "Bet's the pemply plop it want don't nighthe sigit  \n",
            "Ow in surne  \n",
            "Pablen llaget n] hoor to freesy wait is plornd don't painelsunttlisk ever \n",
            "\n",
            "-------------------------------------------------------------------------------------------------------------------\n",
            "\n",
            "\n",
            " After 40000 iterations\n",
            "\n",
            " oar!  \n",
            "What God out cinstop on my Cond Butty  \n",
            "But qufflink you souss a coulds  \n",
            "  \n",
            "So my free CLaseny.  \n",
            "We shamay my uleeff yeerse of you noy Heare is couse the can's a 2inser fof you sanseres it saneper  \n",
            "But -toun  \n",
            "Hicks it end anime Seea  \n",
            "He's crims  \n",
            " I'I's  \n",
            "We're got to but a boushera bog out themd  \n",
            "Our mans hew sausl  \n",
            "But!'houhhen themmore) inne bet and ic p3rtermore sqitt in we s.(Y?U I'r a stare  \n",
            "  \n",
            "(A.d ronna 26 fid my asyes we soringing cunather  \n",
            "It's bloofe is with are plyes  \n",
            "\n",
            "-------------------------------------------------------------------------------------------------------------------\n",
            "\n",
            "\n",
            " After 45000 iterations\n",
            "\n",
            "  they thanker  \n",
            "Wasts kis'll  \n",
            "You heathind my way ille you you sayk anw that the long you  \n",
            "I've to give  \n",
            "You brough just then to fart to pround  \n",
            "You're talk me  \n",
            "I want to keeping I heavell toom alain alaze  \n",
            "  \n",
            "I m)ts make you  \n",
            "  \n",
            "[Chorus]  \n",
            "Cause, I wist were where wach make me  \n",
            "Fourve you gome be botters,  \n",
            "I put wouse you never love?\n",
            "\n",
            ", We ave ever expelt me  \n",
            "Oh you don't withan year  \n",
            "[CHorus]  \n",
            "Out you're blop you reare to lovg you need a aretiald  \n",
            "You ever all worlder do face a ai \n",
            "\n",
            "-------------------------------------------------------------------------------------------------------------------\n",
            "\n",
            "\n",
            " After 50000 iterations\n",
            "\n",
            " Mighing an armshy love cames,  \n",
            "Ever there a ith?  \n",
            "[Ndry- Lase,  \n",
            "Lfeld the try, love just in heart Mhroughtory and Plife.  \n",
            "[Thance Stnee a sucked mus]  \n",
            "And hathry hore.  \n",
            "I dan eave me life  \n",
            "[Ud:e:]  \n",
            "Iferetemes is what heru.]\n",
            "\n",
            ", Chrre othead a canse a ald old mosh me a girfes there make away  \n",
            "Stule  \n",
            "[[Chrach..  \n",
            "Prea crand):......]  \n",
            "[sh!.  \n",
            "[flllighores \"Loked, everyedsene-  \n",
            "Didn har a sunsho't oh-thr aleId effly us arree::]  \n",
            "[[Bhioh:]  \n",
            "[Obly do fan me, and there canonht ruch-ors of  \n",
            "\n",
            "-------------------------------------------------------------------------------------------------------------------\n"
          ]
        }
      ],
      "source": [
        "while iteration < 50001:\n",
        "\n",
        "    if pointer + seq_length+1 >= len(data) or iteration == 0:\n",
        "        hprev_val = np.zeros([1, hidden_size])\n",
        "        pointer = 0\n",
        "\n",
        "    #select input sentence\n",
        "    input_sentence = data[pointer:pointer + seq_length]\n",
        "\n",
        "    #select output sentence\n",
        "    output_sentence = data[pointer + 1:pointer + seq_length + 1]\n",
        "\n",
        "    #get the indices of input and output sentence\n",
        "    input_indices = [char_to_ix[ch] for ch in input_sentence]\n",
        "    target_indices = [char_to_ix[ch] for ch in output_sentence]\n",
        "\n",
        "    #convert the input and output sentence to a one-hot encoded vectors with the help of their indices\n",
        "    input_vector = one_hot_encoder(input_indices)\n",
        "    target_vector = one_hot_encoder(target_indices)\n",
        "\n",
        "\n",
        "    #train the network and get the final hidden state\n",
        "    hprev_val, loss_val, _ = sess.run([hprev, loss, updated_gradients],\n",
        "                                      feed_dict={inputs: input_vector,targets: target_vector,init_state: hprev_val})\n",
        "\n",
        "\n",
        "    #make predictions on every 500th iteration\n",
        "    if iteration % 500 == 0:\n",
        "\n",
        "        #length of characters we want to predict\n",
        "        sample_length = 500\n",
        "\n",
        "        #randomly select index\n",
        "        random_index = random.randint(0, len(data) - seq_length)\n",
        "\n",
        "        #sample the input sentence with the randomly selected index\n",
        "        sample_input_sent = data[random_index:random_index + seq_length]\n",
        "\n",
        "        #get the indices of the sampled input sentence\n",
        "        sample_input_indices = [char_to_ix[ch] for ch in sample_input_sent]\n",
        "\n",
        "        #store the final hidden state in sample_prev_state_val\n",
        "        sample_prev_state_val = np.copy(hprev_val)\n",
        "\n",
        "        #for storing the indices of predicted characters\n",
        "        predicted_indices = []\n",
        "\n",
        "\n",
        "        for t in range(sample_length):\n",
        "\n",
        "            #convert the sampled input sentence into one-hot encoded vector using their indices\n",
        "            sample_input_vector = one_hot_encoder(sample_input_indices)\n",
        "\n",
        "            #compute the probability of all the words in the vocabulary to be the next character\n",
        "            probs_dist, sample_prev_state_val = sess.run([output_softmax, hprev],\n",
        "                                                      feed_dict={inputs: sample_input_vector,init_state: sample_prev_state_val})\n",
        "\n",
        "            #we randomly select the index with the probabilty distribtuion generated by the model\n",
        "            ix = np.random.choice(range(vocab_size), p=probs_dist.ravel())\n",
        "\n",
        "            sample_input_indices = sample_input_indices[1:] + [ix]\n",
        "\n",
        "\n",
        "            #store the predicted index in predicted_indices list\n",
        "            predicted_indices.append(ix)\n",
        "\n",
        "        #convert the predicted indices to their character\n",
        "        predicted_chars = [ix_to_char[ix] for ix in predicted_indices]\n",
        "\n",
        "        #combine the predcited characters\n",
        "        text = ''.join(predicted_chars)\n",
        "\n",
        "        #predict the predict text on every 50000th iteration\n",
        "        if iteration % 5000 == 0:\n",
        "            print ('\\n')\n",
        "            print (' After %d iterations' %(iteration))\n",
        "            print('\\n %s \\n' % (text,))\n",
        "            print('-'*115)\n",
        "\n",
        "\n",
        "    #increment the pointer and iteration\n",
        "    pointer += seq_length\n",
        "    iteration += 1"
      ]
    },
    {
      "cell_type": "markdown",
      "metadata": {
        "id": "diOlrZDfIcrT"
      },
      "source": [
        "Different types of RNN architectures"
      ]
    },
    {
      "cell_type": "markdown",
      "metadata": {
        "id": "Sc07EMMAIcrT"
      },
      "source": [
        "1. One-to-one architecture:<br>\n",
        "In a one-to-one architecture, a single input is mapped to a single output,\n",
        "and the output from the time step t is fed as an input to the next time step."
      ]
    },
    {
      "cell_type": "markdown",
      "source": [
        "![Cute Cat](https://media.geeksforgeeks.org/wp-content/uploads/20211225155841/Screenshot32.png)\n"
      ],
      "metadata": {
        "id": "GqYvZg3kdJ17"
      }
    },
    {
      "cell_type": "markdown",
      "metadata": {
        "id": "xPASaXYgIcrT"
      },
      "source": [
        "2. One-to-many architectures:<br>\n",
        "In a one-to-many architecture, a single input is mapped to multiple hidden\n",
        "states and multiple output values, which means RNN takes a single input and\n",
        "maps it to an output sequence."
      ]
    },
    {
      "cell_type": "markdown",
      "metadata": {
        "id": "vi8Lr1WOIcrU"
      },
      "source": [
        "![image.png](https://media.geeksforgeeks.org/wp-content/uploads/20211225155842/Screenshot33.png)"
      ]
    },
    {
      "cell_type": "markdown",
      "metadata": {
        "id": "wVSelamyIcrU"
      },
      "source": [
        "3. Many-to-one architectire:<br>\n",
        "A many-to-one architecture, as the name suggests, takes a sequence of input\n",
        "and maps it to a single output value."
      ]
    },
    {
      "cell_type": "markdown",
      "metadata": {
        "id": "1BdJBpOQIcrU"
      },
      "source": [
        "![image.png](https://media.geeksforgeeks.org/wp-content/uploads/20211225155845/Screenshot36.png)"
      ]
    },
    {
      "cell_type": "markdown",
      "metadata": {
        "id": "TU_MqfkDIcrU"
      },
      "source": [
        "4. Many-to-many architecture:<br>\n",
        "In many-to-many architectures, we map a sequence of input of arbitrary\n",
        "length to a sequence of output of arbitrary length."
      ]
    },
    {
      "cell_type": "markdown",
      "metadata": {
        "id": "KbRLOrWWIcrU"
      },
      "source": [
        "![image.png](https://media.geeksforgeeks.org/wp-content/uploads/20211225155843/Screenshot35.png)"
      ]
    }
  ],
  "metadata": {
    "kernelspec": {
      "display_name": "Python 3",
      "name": "python3"
    },
    "language_info": {
      "codemirror_mode": {
        "name": "ipython",
        "version": 3
      },
      "file_extension": ".py",
      "mimetype": "text/x-python",
      "name": "python",
      "nbconvert_exporter": "python",
      "pygments_lexer": "ipython3",
      "version": "3.11.4"
    },
    "orig_nbformat": 4,
    "colab": {
      "provenance": [],
      "gpuType": "T4",
      "toc_visible": true
    },
    "accelerator": "GPU"
  },
  "nbformat": 4,
  "nbformat_minor": 0
}